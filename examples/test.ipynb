{
 "cells": [
  {
   "cell_type": "code",
   "execution_count": 6,
   "id": "5d190986",
   "metadata": {},
   "outputs": [],
   "source": [
    "import sys, os\n",
    "sys.path.append(os.path.abspath(\"..\"))"
   ]
  },
  {
   "cell_type": "code",
   "execution_count": 7,
   "id": "304ae666",
   "metadata": {},
   "outputs": [],
   "source": [
    "from port_opt.fetch import get_stock_data\n",
    "import pandas as pd\n",
    "import numpy as np"
   ]
  },
  {
   "cell_type": "code",
   "execution_count": 8,
   "id": "9f578cfb",
   "metadata": {},
   "outputs": [
    {
     "name": "stderr",
     "output_type": "stream",
     "text": [
      "/Users/wenyuc/Dev/QuantDev/portfolio_opt/port_opt/fetch.py:12: FutureWarning: YF.download() has changed argument auto_adjust default to True\n",
      "  data = yf.download(tickers, start=start_date, end=end_date)['Close']\n",
      "[*********************100%***********************]  1 of 1 completed"
     ]
    },
    {
     "name": "stdout",
     "output_type": "stream",
     "text": [
      "Ticker            AMZN\n",
      "Date                  \n",
      "2020-01-02   94.900497\n",
      "2020-01-03   93.748497\n",
      "2020-01-06   95.143997\n",
      "2020-01-07   95.343002\n",
      "2020-01-08   94.598503\n",
      "...                ...\n",
      "2020-12-24  158.634506\n",
      "2020-12-28  164.197998\n",
      "2020-12-29  166.100006\n",
      "2020-12-30  164.292496\n",
      "2020-12-31  162.846497\n",
      "\n",
      "[253 rows x 1 columns]\n"
     ]
    },
    {
     "name": "stderr",
     "output_type": "stream",
     "text": [
      "\n"
     ]
    }
   ],
   "source": [
    "print(get_stock_data([\"AMZN\"],\"2020-01-01\",\"2021-01-01\"))"
   ]
  },
  {
   "cell_type": "code",
   "execution_count": null,
   "id": "5a5a3bbd",
   "metadata": {},
   "outputs": [],
   "source": []
  }
 ],
 "metadata": {
  "kernelspec": {
   "display_name": "Python 3",
   "language": "python",
   "name": "python3"
  },
  "language_info": {
   "codemirror_mode": {
    "name": "ipython",
    "version": 3
   },
   "file_extension": ".py",
   "mimetype": "text/x-python",
   "name": "python",
   "nbconvert_exporter": "python",
   "pygments_lexer": "ipython3",
   "version": "3.11.12"
  }
 },
 "nbformat": 4,
 "nbformat_minor": 5
}
